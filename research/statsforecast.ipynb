{
 "cells": [
  {
   "cell_type": "code",
   "execution_count": 3,
   "metadata": {},
   "outputs": [],
   "source": [
    "from statsforecast import StatsForecast\n",
    "from statsforecast.models import AutoARIMA\n",
    "\n",
    "from tempForecast.components.data_transformation import WeatherDatabase\n",
    "from tempForecast.components.data_ingestion import weather_scraping"
   ]
  },
  {
   "cell_type": "code",
   "execution_count": 4,
   "metadata": {},
   "outputs": [
    {
     "name": "stdout",
     "output_type": "stream",
     "text": [
      "2023-11-27 19:34:34.587566\n",
      "https://www.infoclimat.fr/observations-meteo/archives/27/novembre/2023/paris-5eme-tour-zamansky-jussieu/000BV.html?dixminutes\n"
     ]
    },
    {
     "name": "stderr",
     "output_type": "stream",
     "text": [
      "c:\\users\\zbook create g7\\desktop\\temperature forecasting\\src\\tempForecast\\components\\data_ingestion.py:65: MarkupResemblesLocatorWarning: The input looks more like a filename than markup. You may want to open this file and pass the filehandle into Beautiful Soup.\n",
      "  date_text = BeautifulSoup(\n"
     ]
    }
   ],
   "source": [
    "data = weather_scraping().load_data()\n",
    "# on instancie la classe avec la base de donnée déjà chargé pour ne pas rescrapé tout\n",
    "# si on met last_df en argument cela va scrapper seulement depuis la dernière date du df donc enlever pour éviter une interpolation\n",
    "data_ingestion = weather_scraping(last_df=data)\n",
    "# scraping \n",
    "\n",
    "data = data_ingestion.web_scraping()\n",
    "# il faut ajouter cette base à la db\n",
    "data_ingestion.load_data(df=data)\n",
    "data = WeatherDatabase().load_data_and_transform()"
   ]
  },
  {
   "cell_type": "code",
   "execution_count": 5,
   "metadata": {},
   "outputs": [
    {
     "name": "stderr",
     "output_type": "stream",
     "text": [
      "C:\\Users\\Zbook Create G7\\AppData\\Local\\Temp\\ipykernel_50164\\3164910419.py:5: FutureWarning: Series.fillna with 'method' is deprecated and will raise in a future version. Use obj.ffill() or obj.bfill() instead.\n",
      "  data['y'].fillna(method='bfill', inplace=True)\n",
      "C:\\Users\\Zbook Create G7\\AppData\\Local\\Temp\\ipykernel_50164\\3164910419.py:6: FutureWarning: Series.fillna with 'method' is deprecated and will raise in a future version. Use obj.ffill() or obj.bfill() instead.\n",
      "  data['vent'].fillna(method='bfill', inplace=True)\n"
     ]
    }
   ],
   "source": [
    "#data[\"unique_id\"] = \"temp\"\n",
    "data.rename(columns={\"température\":\"y\"}, inplace=True)\n",
    "#data.rename(columns={\"datetime\":\"ds\"}, inplace=True)\n",
    "\n",
    "data['y'].fillna(method='bfill', inplace=True)\n",
    "data['vent'].fillna(method='bfill', inplace=True)\n",
    "data['rafales'].fillna(0, inplace=True)\n",
    "data['vent_direction'].fillna(0, inplace=True)\n",
    "data['pt_de_rosee'].fillna(0, inplace=True)\n",
    "data['humidite'].fillna(0, inplace=True)\n"
   ]
  },
  {
   "cell_type": "code",
   "execution_count": 6,
   "metadata": {},
   "outputs": [],
   "source": [
    "data.drop(columns=['bio_meteo','radiation_solaire'], inplace=True)\n",
    "data.drop(columns='id', inplace=True)"
   ]
  },
  {
   "cell_type": "code",
   "execution_count": 7,
   "metadata": {},
   "outputs": [],
   "source": [
    "data.rename(columns={\"datetime\":\"ds\"}, inplace=True)"
   ]
  },
  {
   "cell_type": "code",
   "execution_count": 12,
   "metadata": {},
   "outputs": [],
   "source": [
    "data['unique_id'] = 'temp'"
   ]
  },
  {
   "cell_type": "code",
   "execution_count": 14,
   "metadata": {},
   "outputs": [
    {
     "ename": "KeyboardInterrupt",
     "evalue": "",
     "output_type": "error",
     "traceback": [
      "\u001b[1;31m---------------------------------------------------------------------------\u001b[0m",
      "\u001b[1;31mKeyboardInterrupt\u001b[0m                         Traceback (most recent call last)",
      "\u001b[1;32mc:\\Users\\Zbook Create G7\\Desktop\\temperature forecasting\\research\\statsforecast.ipynb Cell 7\u001b[0m line \u001b[0;36m6\n\u001b[0;32m      <a href='vscode-notebook-cell:/c%3A/Users/Zbook%20Create%20G7/Desktop/temperature%20forecasting/research/statsforecast.ipynb#W5sZmlsZQ%3D%3D?line=0'>1</a>\u001b[0m sf \u001b[39m=\u001b[39m StatsForecast(\n\u001b[0;32m      <a href='vscode-notebook-cell:/c%3A/Users/Zbook%20Create%20G7/Desktop/temperature%20forecasting/research/statsforecast.ipynb#W5sZmlsZQ%3D%3D?line=1'>2</a>\u001b[0m     models \u001b[39m=\u001b[39m [AutoARIMA(season_length \u001b[39m=\u001b[39m \u001b[39m12\u001b[39m)],\n\u001b[0;32m      <a href='vscode-notebook-cell:/c%3A/Users/Zbook%20Create%20G7/Desktop/temperature%20forecasting/research/statsforecast.ipynb#W5sZmlsZQ%3D%3D?line=2'>3</a>\u001b[0m     freq \u001b[39m=\u001b[39m \u001b[39m'\u001b[39m\u001b[39m10T\u001b[39m\u001b[39m'\u001b[39m\n\u001b[0;32m      <a href='vscode-notebook-cell:/c%3A/Users/Zbook%20Create%20G7/Desktop/temperature%20forecasting/research/statsforecast.ipynb#W5sZmlsZQ%3D%3D?line=3'>4</a>\u001b[0m )\n\u001b[1;32m----> <a href='vscode-notebook-cell:/c%3A/Users/Zbook%20Create%20G7/Desktop/temperature%20forecasting/research/statsforecast.ipynb#W5sZmlsZQ%3D%3D?line=5'>6</a>\u001b[0m sf\u001b[39m.\u001b[39;49mfit(data[[\u001b[39m'\u001b[39;49m\u001b[39my\u001b[39;49m\u001b[39m'\u001b[39;49m,\u001b[39m'\u001b[39;49m\u001b[39mds\u001b[39;49m\u001b[39m'\u001b[39;49m,\u001b[39m'\u001b[39;49m\u001b[39munique_id\u001b[39;49m\u001b[39m'\u001b[39;49m]])\n\u001b[0;32m      <a href='vscode-notebook-cell:/c%3A/Users/Zbook%20Create%20G7/Desktop/temperature%20forecasting/research/statsforecast.ipynb#W5sZmlsZQ%3D%3D?line=6'>7</a>\u001b[0m sf\u001b[39m.\u001b[39mpredict(h\u001b[39m=\u001b[39m\u001b[39m12\u001b[39m, level\u001b[39m=\u001b[39m[\u001b[39m95\u001b[39m])\n",
      "File \u001b[1;32mc:\\Users\\Zbook Create G7\\Desktop\\temperature forecasting\\venv\\lib\\site-packages\\statsforecast\\core.py:880\u001b[0m, in \u001b[0;36m_StatsForecast.fit\u001b[1;34m(self, df, sort_df, prediction_intervals)\u001b[0m\n\u001b[0;32m    878\u001b[0m \u001b[39mself\u001b[39m\u001b[39m.\u001b[39m_prepare_fit(df, sort_df)\n\u001b[0;32m    879\u001b[0m \u001b[39mif\u001b[39;00m \u001b[39mself\u001b[39m\u001b[39m.\u001b[39mn_jobs \u001b[39m==\u001b[39m \u001b[39m1\u001b[39m:\n\u001b[1;32m--> 880\u001b[0m     \u001b[39mself\u001b[39m\u001b[39m.\u001b[39mfitted_ \u001b[39m=\u001b[39m \u001b[39mself\u001b[39;49m\u001b[39m.\u001b[39;49mga\u001b[39m.\u001b[39;49mfit(models\u001b[39m=\u001b[39;49m\u001b[39mself\u001b[39;49m\u001b[39m.\u001b[39;49mmodels)\n\u001b[0;32m    881\u001b[0m \u001b[39melse\u001b[39;00m:\n\u001b[0;32m    882\u001b[0m     \u001b[39mself\u001b[39m\u001b[39m.\u001b[39mfitted_ \u001b[39m=\u001b[39m \u001b[39mself\u001b[39m\u001b[39m.\u001b[39m_fit_parallel()\n",
      "File \u001b[1;32mc:\\Users\\Zbook Create G7\\Desktop\\temperature forecasting\\venv\\lib\\site-packages\\statsforecast\\core.py:77\u001b[0m, in \u001b[0;36mGroupedArray.fit\u001b[1;34m(self, models)\u001b[0m\n\u001b[0;32m     75\u001b[0m     \u001b[39mfor\u001b[39;00m i_model, model \u001b[39min\u001b[39;00m \u001b[39menumerate\u001b[39m(models):\n\u001b[0;32m     76\u001b[0m         new_model \u001b[39m=\u001b[39m model\u001b[39m.\u001b[39mnew()\n\u001b[1;32m---> 77\u001b[0m         fm[i, i_model] \u001b[39m=\u001b[39m new_model\u001b[39m.\u001b[39;49mfit(y\u001b[39m=\u001b[39;49my, X\u001b[39m=\u001b[39;49mX)\n\u001b[0;32m     78\u001b[0m \u001b[39mreturn\u001b[39;00m fm\n",
      "File \u001b[1;32mc:\\Users\\Zbook Create G7\\Desktop\\temperature forecasting\\venv\\lib\\site-packages\\statsforecast\\models.py:328\u001b[0m, in \u001b[0;36mAutoARIMA.fit\u001b[1;34m(self, y, X)\u001b[0m\n\u001b[0;32m    310\u001b[0m \u001b[39m\u001b[39m\u001b[39m\"\"\"Fit the AutoARIMA model.\u001b[39;00m\n\u001b[0;32m    311\u001b[0m \n\u001b[0;32m    312\u001b[0m \u001b[39mFit an AutoARIMA to a time series (numpy array) `y`\u001b[39;00m\n\u001b[1;32m   (...)\u001b[0m\n\u001b[0;32m    325\u001b[0m \u001b[39m    AutoARIMA fitted model.\u001b[39;00m\n\u001b[0;32m    326\u001b[0m \u001b[39m\"\"\"\u001b[39;00m\n\u001b[0;32m    327\u001b[0m \u001b[39mwith\u001b[39;00m np\u001b[39m.\u001b[39merrstate(invalid\u001b[39m=\u001b[39m\u001b[39m\"\u001b[39m\u001b[39mignore\u001b[39m\u001b[39m\"\u001b[39m):\n\u001b[1;32m--> 328\u001b[0m     \u001b[39mself\u001b[39m\u001b[39m.\u001b[39mmodel_ \u001b[39m=\u001b[39m auto_arima_f(\n\u001b[0;32m    329\u001b[0m         x\u001b[39m=\u001b[39;49my,\n\u001b[0;32m    330\u001b[0m         d\u001b[39m=\u001b[39;49m\u001b[39mself\u001b[39;49m\u001b[39m.\u001b[39;49md,\n\u001b[0;32m    331\u001b[0m         D\u001b[39m=\u001b[39;49m\u001b[39mself\u001b[39;49m\u001b[39m.\u001b[39;49mD,\n\u001b[0;32m    332\u001b[0m         max_p\u001b[39m=\u001b[39;49m\u001b[39mself\u001b[39;49m\u001b[39m.\u001b[39;49mmax_p,\n\u001b[0;32m    333\u001b[0m         max_q\u001b[39m=\u001b[39;49m\u001b[39mself\u001b[39;49m\u001b[39m.\u001b[39;49mmax_q,\n\u001b[0;32m    334\u001b[0m         max_P\u001b[39m=\u001b[39;49m\u001b[39mself\u001b[39;49m\u001b[39m.\u001b[39;49mmax_P,\n\u001b[0;32m    335\u001b[0m         max_Q\u001b[39m=\u001b[39;49m\u001b[39mself\u001b[39;49m\u001b[39m.\u001b[39;49mmax_Q,\n\u001b[0;32m    336\u001b[0m         max_order\u001b[39m=\u001b[39;49m\u001b[39mself\u001b[39;49m\u001b[39m.\u001b[39;49mmax_order,\n\u001b[0;32m    337\u001b[0m         max_d\u001b[39m=\u001b[39;49m\u001b[39mself\u001b[39;49m\u001b[39m.\u001b[39;49mmax_d,\n\u001b[0;32m    338\u001b[0m         max_D\u001b[39m=\u001b[39;49m\u001b[39mself\u001b[39;49m\u001b[39m.\u001b[39;49mmax_D,\n\u001b[0;32m    339\u001b[0m         start_p\u001b[39m=\u001b[39;49m\u001b[39mself\u001b[39;49m\u001b[39m.\u001b[39;49mstart_p,\n\u001b[0;32m    340\u001b[0m         start_q\u001b[39m=\u001b[39;49m\u001b[39mself\u001b[39;49m\u001b[39m.\u001b[39;49mstart_q,\n\u001b[0;32m    341\u001b[0m         start_P\u001b[39m=\u001b[39;49m\u001b[39mself\u001b[39;49m\u001b[39m.\u001b[39;49mstart_P,\n\u001b[0;32m    342\u001b[0m         start_Q\u001b[39m=\u001b[39;49m\u001b[39mself\u001b[39;49m\u001b[39m.\u001b[39;49mstart_Q,\n\u001b[0;32m    343\u001b[0m         stationary\u001b[39m=\u001b[39;49m\u001b[39mself\u001b[39;49m\u001b[39m.\u001b[39;49mstationary,\n\u001b[0;32m    344\u001b[0m         seasonal\u001b[39m=\u001b[39;49m\u001b[39mself\u001b[39;49m\u001b[39m.\u001b[39;49mseasonal,\n\u001b[0;32m    345\u001b[0m         ic\u001b[39m=\u001b[39;49m\u001b[39mself\u001b[39;49m\u001b[39m.\u001b[39;49mic,\n\u001b[0;32m    346\u001b[0m         stepwise\u001b[39m=\u001b[39;49m\u001b[39mself\u001b[39;49m\u001b[39m.\u001b[39;49mstepwise,\n\u001b[0;32m    347\u001b[0m         nmodels\u001b[39m=\u001b[39;49m\u001b[39mself\u001b[39;49m\u001b[39m.\u001b[39;49mnmodels,\n\u001b[0;32m    348\u001b[0m         trace\u001b[39m=\u001b[39;49m\u001b[39mself\u001b[39;49m\u001b[39m.\u001b[39;49mtrace,\n\u001b[0;32m    349\u001b[0m         approximation\u001b[39m=\u001b[39;49m\u001b[39mself\u001b[39;49m\u001b[39m.\u001b[39;49mapproximation,\n\u001b[0;32m    350\u001b[0m         method\u001b[39m=\u001b[39;49m\u001b[39mself\u001b[39;49m\u001b[39m.\u001b[39;49mmethod,\n\u001b[0;32m    351\u001b[0m         truncate\u001b[39m=\u001b[39;49m\u001b[39mself\u001b[39;49m\u001b[39m.\u001b[39;49mtruncate,\n\u001b[0;32m    352\u001b[0m         xreg\u001b[39m=\u001b[39;49mX,\n\u001b[0;32m    353\u001b[0m         test\u001b[39m=\u001b[39;49m\u001b[39mself\u001b[39;49m\u001b[39m.\u001b[39;49mtest,\n\u001b[0;32m    354\u001b[0m         test_kwargs\u001b[39m=\u001b[39;49m\u001b[39mself\u001b[39;49m\u001b[39m.\u001b[39;49mtest_kwargs,\n\u001b[0;32m    355\u001b[0m         seasonal_test\u001b[39m=\u001b[39;49m\u001b[39mself\u001b[39;49m\u001b[39m.\u001b[39;49mseasonal_test,\n\u001b[0;32m    356\u001b[0m         seasonal_test_kwargs\u001b[39m=\u001b[39;49m\u001b[39mself\u001b[39;49m\u001b[39m.\u001b[39;49mseasonal_test_kwargs,\n\u001b[0;32m    357\u001b[0m         allowdrift\u001b[39m=\u001b[39;49m\u001b[39mself\u001b[39;49m\u001b[39m.\u001b[39;49mallowdrift,\n\u001b[0;32m    358\u001b[0m         allowmean\u001b[39m=\u001b[39;49m\u001b[39mself\u001b[39;49m\u001b[39m.\u001b[39;49mallowmean,\n\u001b[0;32m    359\u001b[0m         blambda\u001b[39m=\u001b[39;49m\u001b[39mself\u001b[39;49m\u001b[39m.\u001b[39;49mblambda,\n\u001b[0;32m    360\u001b[0m         biasadj\u001b[39m=\u001b[39;49m\u001b[39mself\u001b[39;49m\u001b[39m.\u001b[39;49mbiasadj,\n\u001b[0;32m    361\u001b[0m         period\u001b[39m=\u001b[39;49m\u001b[39mself\u001b[39;49m\u001b[39m.\u001b[39;49mseason_length,\n\u001b[0;32m    362\u001b[0m     )\n\u001b[0;32m    364\u001b[0m \u001b[39mself\u001b[39m\u001b[39m.\u001b[39m_store_cs(y\u001b[39m=\u001b[39my, X\u001b[39m=\u001b[39mX)\n\u001b[0;32m    365\u001b[0m \u001b[39mreturn\u001b[39;00m \u001b[39mself\u001b[39m\n",
      "File \u001b[1;32mc:\\Users\\Zbook Create G7\\Desktop\\temperature forecasting\\venv\\lib\\site-packages\\statsforecast\\arima.py:2123\u001b[0m, in \u001b[0;36mauto_arima_f\u001b[1;34m(x, d, D, max_p, max_q, max_P, max_Q, max_order, max_d, max_D, start_p, start_q, start_P, start_Q, stationary, seasonal, ic, stepwise, nmodels, trace, approximation, method, truncate, xreg, test, test_kwargs, seasonal_test, seasonal_test_kwargs, allowdrift, allowmean, blambda, biasadj, period)\u001b[0m\n\u001b[0;32m   2121\u001b[0m         \u001b[39mcontinue\u001b[39;00m\n\u001b[0;32m   2122\u001b[0m \u001b[39mif\u001b[39;00m P \u001b[39m<\u001b[39m max_P \u001b[39mand\u001b[39;00m newmodel(p, d, q, P \u001b[39m+\u001b[39m \u001b[39m1\u001b[39m, D, Q, constant, results[:k]):\n\u001b[1;32m-> 2123\u001b[0m     k, bestfit, improved \u001b[39m=\u001b[39m try_params(\n\u001b[0;32m   2124\u001b[0m         p, d, q, P \u001b[39m+\u001b[39;49m \u001b[39m1\u001b[39;49m, D, Q, constant, k, bestfit\n\u001b[0;32m   2125\u001b[0m     )\n\u001b[0;32m   2126\u001b[0m     \u001b[39mif\u001b[39;00m improved:\n\u001b[0;32m   2127\u001b[0m         P \u001b[39m+\u001b[39m\u001b[39m=\u001b[39m \u001b[39m1\u001b[39m\n",
      "File \u001b[1;32mc:\\Users\\Zbook Create G7\\Desktop\\temperature forecasting\\venv\\lib\\site-packages\\statsforecast\\arima.py:2095\u001b[0m, in \u001b[0;36mauto_arima_f.<locals>.try_params\u001b[1;34m(p, d, q, P, D, Q, constant, k, bestfit)\u001b[0m\n\u001b[0;32m   2093\u001b[0m \u001b[39mif\u001b[39;00m k \u001b[39m>\u001b[39m\u001b[39m=\u001b[39m results\u001b[39m.\u001b[39mshape[\u001b[39m0\u001b[39m]:\n\u001b[0;32m   2094\u001b[0m     \u001b[39mreturn\u001b[39;00m k, bestfit, improved\n\u001b[1;32m-> 2095\u001b[0m fit \u001b[39m=\u001b[39m p_myarima(\n\u001b[0;32m   2096\u001b[0m     order\u001b[39m=\u001b[39;49m(p, d, q),\n\u001b[0;32m   2097\u001b[0m     seasonal\u001b[39m=\u001b[39;49m{\u001b[39m\"\u001b[39;49m\u001b[39morder\u001b[39;49m\u001b[39m\"\u001b[39;49m: (P, D, Q), \u001b[39m\"\u001b[39;49m\u001b[39mperiod\u001b[39;49m\u001b[39m\"\u001b[39;49m: m},\n\u001b[0;32m   2098\u001b[0m )\n\u001b[0;32m   2099\u001b[0m results[k] \u001b[39m=\u001b[39m (p, d, q, P, D, Q, constant, fit[\u001b[39m\"\u001b[39m\u001b[39mic\u001b[39m\u001b[39m\"\u001b[39m])\n\u001b[0;32m   2100\u001b[0m \u001b[39mif\u001b[39;00m fit[\u001b[39m\"\u001b[39m\u001b[39mic\u001b[39m\u001b[39m\"\u001b[39m] \u001b[39m<\u001b[39m bestfit[\u001b[39m\"\u001b[39m\u001b[39mic\u001b[39m\u001b[39m\"\u001b[39m]:\n",
      "File \u001b[1;32mc:\\Users\\Zbook Create G7\\Desktop\\temperature forecasting\\venv\\lib\\site-packages\\statsforecast\\arima.py:1237\u001b[0m, in \u001b[0;36mmyarima\u001b[1;34m(x, order, seasonal, constant, ic, trace, approximation, offset, xreg, method, **kwargs)\u001b[0m\n\u001b[0;32m   1235\u001b[0m \u001b[39melse\u001b[39;00m:\n\u001b[0;32m   1236\u001b[0m     \u001b[39mif\u001b[39;00m use_season:\n\u001b[1;32m-> 1237\u001b[0m         fit \u001b[39m=\u001b[39m arima(\n\u001b[0;32m   1238\u001b[0m             x, order, seasonal, include_mean\u001b[39m=\u001b[39;49mconstant, method\u001b[39m=\u001b[39;49mmethod, xreg\u001b[39m=\u001b[39;49mxreg\n\u001b[0;32m   1239\u001b[0m         )\n\u001b[0;32m   1240\u001b[0m     \u001b[39melse\u001b[39;00m:\n\u001b[0;32m   1241\u001b[0m         fit \u001b[39m=\u001b[39m arima(x, order, include_mean\u001b[39m=\u001b[39mconstant, method\u001b[39m=\u001b[39mmethod, xreg\u001b[39m=\u001b[39mxreg)\n",
      "File \u001b[1;32mc:\\Users\\Zbook Create G7\\Desktop\\temperature forecasting\\venv\\lib\\site-packages\\statsforecast\\arima.py:969\u001b[0m, in \u001b[0;36marima\u001b[1;34m(x, order, seasonal, xreg, include_mean, transform_pars, fixed, init, method, SSinit, optim_method, kappa, tol, optim_control)\u001b[0m\n\u001b[0;32m    961\u001b[0m     res \u001b[39m=\u001b[39m OptimResult(\n\u001b[0;32m    962\u001b[0m         \u001b[39mTrue\u001b[39;00m,\n\u001b[0;32m    963\u001b[0m         \u001b[39m0\u001b[39m,\n\u001b[1;32m   (...)\u001b[0m\n\u001b[0;32m    966\u001b[0m         np\u001b[39m.\u001b[39marray([]),\n\u001b[0;32m    967\u001b[0m     )\n\u001b[0;32m    968\u001b[0m \u001b[39melse\u001b[39;00m:\n\u001b[1;32m--> 969\u001b[0m     res \u001b[39m=\u001b[39m minimize(\n\u001b[0;32m    970\u001b[0m         armafn,\n\u001b[0;32m    971\u001b[0m         init[mask],\n\u001b[0;32m    972\u001b[0m         args\u001b[39m=\u001b[39;49m(\n\u001b[0;32m    973\u001b[0m             x,\n\u001b[0;32m    974\u001b[0m             transform_pars,\n\u001b[0;32m    975\u001b[0m         ),\n\u001b[0;32m    976\u001b[0m         method\u001b[39m=\u001b[39;49moptim_method,\n\u001b[0;32m    977\u001b[0m         tol\u001b[39m=\u001b[39;49mtol,\n\u001b[0;32m    978\u001b[0m         options\u001b[39m=\u001b[39;49moptim_control,\n\u001b[0;32m    979\u001b[0m     )\n\u001b[0;32m    980\u001b[0m \u001b[39m# if not res.success:\u001b[39;00m\n\u001b[0;32m    981\u001b[0m \u001b[39m# warnings.warn(res.message)\u001b[39;00m\n\u001b[0;32m    982\u001b[0m coef[mask] \u001b[39m=\u001b[39m res\u001b[39m.\u001b[39mx\n",
      "File \u001b[1;32mc:\\Users\\Zbook Create G7\\Desktop\\temperature forecasting\\venv\\lib\\site-packages\\scipy\\optimize\\_minimize.py:705\u001b[0m, in \u001b[0;36mminimize\u001b[1;34m(fun, x0, args, method, jac, hess, hessp, bounds, constraints, tol, callback, options)\u001b[0m\n\u001b[0;32m    703\u001b[0m     res \u001b[39m=\u001b[39m _minimize_cg(fun, x0, args, jac, callback, \u001b[39m*\u001b[39m\u001b[39m*\u001b[39moptions)\n\u001b[0;32m    704\u001b[0m \u001b[39melif\u001b[39;00m meth \u001b[39m==\u001b[39m \u001b[39m'\u001b[39m\u001b[39mbfgs\u001b[39m\u001b[39m'\u001b[39m:\n\u001b[1;32m--> 705\u001b[0m     res \u001b[39m=\u001b[39m _minimize_bfgs(fun, x0, args, jac, callback, \u001b[39m*\u001b[39m\u001b[39m*\u001b[39moptions)\n\u001b[0;32m    706\u001b[0m \u001b[39melif\u001b[39;00m meth \u001b[39m==\u001b[39m \u001b[39m'\u001b[39m\u001b[39mnewton-cg\u001b[39m\u001b[39m'\u001b[39m:\n\u001b[0;32m    707\u001b[0m     res \u001b[39m=\u001b[39m _minimize_newtoncg(fun, x0, args, jac, hess, hessp, callback,\n\u001b[0;32m    708\u001b[0m                              \u001b[39m*\u001b[39m\u001b[39m*\u001b[39moptions)\n",
      "File \u001b[1;32mc:\\Users\\Zbook Create G7\\Desktop\\temperature forecasting\\venv\\lib\\site-packages\\scipy\\optimize\\_optimize.py:1445\u001b[0m, in \u001b[0;36m_minimize_bfgs\u001b[1;34m(fun, x0, args, jac, callback, gtol, norm, eps, maxiter, disp, return_all, finite_diff_rel_step, xrtol, **unknown_options)\u001b[0m\n\u001b[0;32m   1442\u001b[0m pk \u001b[39m=\u001b[39m \u001b[39m-\u001b[39mnp\u001b[39m.\u001b[39mdot(Hk, gfk)\n\u001b[0;32m   1443\u001b[0m \u001b[39mtry\u001b[39;00m:\n\u001b[0;32m   1444\u001b[0m     alpha_k, fc, gc, old_fval, old_old_fval, gfkp1 \u001b[39m=\u001b[39m \\\n\u001b[1;32m-> 1445\u001b[0m              _line_search_wolfe12(f, myfprime, xk, pk, gfk,\n\u001b[0;32m   1446\u001b[0m                                   old_fval, old_old_fval, amin\u001b[39m=\u001b[39;49m\u001b[39m1e-100\u001b[39;49m, amax\u001b[39m=\u001b[39;49m\u001b[39m1e100\u001b[39;49m)\n\u001b[0;32m   1447\u001b[0m \u001b[39mexcept\u001b[39;00m _LineSearchError:\n\u001b[0;32m   1448\u001b[0m     \u001b[39m# Line search failed to find a better solution.\u001b[39;00m\n\u001b[0;32m   1449\u001b[0m     warnflag \u001b[39m=\u001b[39m \u001b[39m2\u001b[39m\n",
      "File \u001b[1;32mc:\\Users\\Zbook Create G7\\Desktop\\temperature forecasting\\venv\\lib\\site-packages\\scipy\\optimize\\_optimize.py:1215\u001b[0m, in \u001b[0;36m_line_search_wolfe12\u001b[1;34m(f, fprime, xk, pk, gfk, old_fval, old_old_fval, **kwargs)\u001b[0m\n\u001b[0;32m   1201\u001b[0m \u001b[39m\u001b[39m\u001b[39m\"\"\"\u001b[39;00m\n\u001b[0;32m   1202\u001b[0m \u001b[39mSame as line_search_wolfe1, but fall back to line_search_wolfe2 if\u001b[39;00m\n\u001b[0;32m   1203\u001b[0m \u001b[39msuitable step length is not found, and raise an exception if a\u001b[39;00m\n\u001b[1;32m   (...)\u001b[0m\n\u001b[0;32m   1210\u001b[0m \n\u001b[0;32m   1211\u001b[0m \u001b[39m\"\"\"\u001b[39;00m\n\u001b[0;32m   1213\u001b[0m extra_condition \u001b[39m=\u001b[39m kwargs\u001b[39m.\u001b[39mpop(\u001b[39m'\u001b[39m\u001b[39mextra_condition\u001b[39m\u001b[39m'\u001b[39m, \u001b[39mNone\u001b[39;00m)\n\u001b[1;32m-> 1215\u001b[0m ret \u001b[39m=\u001b[39m line_search_wolfe1(f, fprime, xk, pk, gfk,\n\u001b[0;32m   1216\u001b[0m                          old_fval, old_old_fval,\n\u001b[0;32m   1217\u001b[0m                          \u001b[39m*\u001b[39m\u001b[39m*\u001b[39mkwargs)\n\u001b[0;32m   1219\u001b[0m \u001b[39mif\u001b[39;00m ret[\u001b[39m0\u001b[39m] \u001b[39mis\u001b[39;00m \u001b[39mnot\u001b[39;00m \u001b[39mNone\u001b[39;00m \u001b[39mand\u001b[39;00m extra_condition \u001b[39mis\u001b[39;00m \u001b[39mnot\u001b[39;00m \u001b[39mNone\u001b[39;00m:\n\u001b[0;32m   1220\u001b[0m     xp1 \u001b[39m=\u001b[39m xk \u001b[39m+\u001b[39m ret[\u001b[39m0\u001b[39m] \u001b[39m*\u001b[39m pk\n",
      "File \u001b[1;32mc:\\Users\\Zbook Create G7\\Desktop\\temperature forecasting\\venv\\lib\\site-packages\\scipy\\optimize\\_linesearch.py:84\u001b[0m, in \u001b[0;36mline_search_wolfe1\u001b[1;34m(f, fprime, xk, pk, gfk, old_fval, old_old_fval, args, c1, c2, amax, amin, xtol)\u001b[0m\n\u001b[0;32m     80\u001b[0m     \u001b[39mreturn\u001b[39;00m np\u001b[39m.\u001b[39mdot(gval[\u001b[39m0\u001b[39m], pk)\n\u001b[0;32m     82\u001b[0m derphi0 \u001b[39m=\u001b[39m np\u001b[39m.\u001b[39mdot(gfk, pk)\n\u001b[1;32m---> 84\u001b[0m stp, fval, old_fval \u001b[39m=\u001b[39m scalar_search_wolfe1(\n\u001b[0;32m     85\u001b[0m         phi, derphi, old_fval, old_old_fval, derphi0,\n\u001b[0;32m     86\u001b[0m         c1\u001b[39m=\u001b[39;49mc1, c2\u001b[39m=\u001b[39;49mc2, amax\u001b[39m=\u001b[39;49mamax, amin\u001b[39m=\u001b[39;49mamin, xtol\u001b[39m=\u001b[39;49mxtol)\n\u001b[0;32m     88\u001b[0m \u001b[39mreturn\u001b[39;00m stp, fc[\u001b[39m0\u001b[39m], gc[\u001b[39m0\u001b[39m], fval, old_fval, gval[\u001b[39m0\u001b[39m]\n",
      "File \u001b[1;32mc:\\Users\\Zbook Create G7\\Desktop\\temperature forecasting\\venv\\lib\\site-packages\\scipy\\optimize\\_linesearch.py:161\u001b[0m, in \u001b[0;36mscalar_search_wolfe1\u001b[1;34m(phi, derphi, phi0, old_phi0, derphi0, c1, c2, amax, amin, xtol)\u001b[0m\n\u001b[0;32m    159\u001b[0m     alpha1 \u001b[39m=\u001b[39m stp\n\u001b[0;32m    160\u001b[0m     phi1 \u001b[39m=\u001b[39m phi(stp)\n\u001b[1;32m--> 161\u001b[0m     derphi1 \u001b[39m=\u001b[39m derphi(stp)\n\u001b[0;32m    162\u001b[0m \u001b[39melse\u001b[39;00m:\n\u001b[0;32m    163\u001b[0m     \u001b[39mbreak\u001b[39;00m\n",
      "File \u001b[1;32mc:\\Users\\Zbook Create G7\\Desktop\\temperature forecasting\\venv\\lib\\site-packages\\scipy\\optimize\\_linesearch.py:78\u001b[0m, in \u001b[0;36mline_search_wolfe1.<locals>.derphi\u001b[1;34m(s)\u001b[0m\n\u001b[0;32m     77\u001b[0m \u001b[39mdef\u001b[39;00m \u001b[39mderphi\u001b[39m(s):\n\u001b[1;32m---> 78\u001b[0m     gval[\u001b[39m0\u001b[39m] \u001b[39m=\u001b[39m fprime(xk \u001b[39m+\u001b[39;49m s\u001b[39m*\u001b[39;49mpk, \u001b[39m*\u001b[39;49margs)\n\u001b[0;32m     79\u001b[0m     gc[\u001b[39m0\u001b[39m] \u001b[39m+\u001b[39m\u001b[39m=\u001b[39m \u001b[39m1\u001b[39m\n\u001b[0;32m     80\u001b[0m     \u001b[39mreturn\u001b[39;00m np\u001b[39m.\u001b[39mdot(gval[\u001b[39m0\u001b[39m], pk)\n",
      "File \u001b[1;32mc:\\Users\\Zbook Create G7\\Desktop\\temperature forecasting\\venv\\lib\\site-packages\\scipy\\optimize\\_differentiable_functions.py:273\u001b[0m, in \u001b[0;36mScalarFunction.grad\u001b[1;34m(self, x)\u001b[0m\n\u001b[0;32m    271\u001b[0m \u001b[39mif\u001b[39;00m \u001b[39mnot\u001b[39;00m np\u001b[39m.\u001b[39marray_equal(x, \u001b[39mself\u001b[39m\u001b[39m.\u001b[39mx):\n\u001b[0;32m    272\u001b[0m     \u001b[39mself\u001b[39m\u001b[39m.\u001b[39m_update_x_impl(x)\n\u001b[1;32m--> 273\u001b[0m \u001b[39mself\u001b[39;49m\u001b[39m.\u001b[39;49m_update_grad()\n\u001b[0;32m    274\u001b[0m \u001b[39mreturn\u001b[39;00m \u001b[39mself\u001b[39m\u001b[39m.\u001b[39mg\n",
      "File \u001b[1;32mc:\\Users\\Zbook Create G7\\Desktop\\temperature forecasting\\venv\\lib\\site-packages\\scipy\\optimize\\_differentiable_functions.py:256\u001b[0m, in \u001b[0;36mScalarFunction._update_grad\u001b[1;34m(self)\u001b[0m\n\u001b[0;32m    254\u001b[0m \u001b[39mdef\u001b[39;00m \u001b[39m_update_grad\u001b[39m(\u001b[39mself\u001b[39m):\n\u001b[0;32m    255\u001b[0m     \u001b[39mif\u001b[39;00m \u001b[39mnot\u001b[39;00m \u001b[39mself\u001b[39m\u001b[39m.\u001b[39mg_updated:\n\u001b[1;32m--> 256\u001b[0m         \u001b[39mself\u001b[39;49m\u001b[39m.\u001b[39;49m_update_grad_impl()\n\u001b[0;32m    257\u001b[0m         \u001b[39mself\u001b[39m\u001b[39m.\u001b[39mg_updated \u001b[39m=\u001b[39m \u001b[39mTrue\u001b[39;00m\n",
      "File \u001b[1;32mc:\\Users\\Zbook Create G7\\Desktop\\temperature forecasting\\venv\\lib\\site-packages\\scipy\\optimize\\_differentiable_functions.py:173\u001b[0m, in \u001b[0;36mScalarFunction.__init__.<locals>.update_grad\u001b[1;34m()\u001b[0m\n\u001b[0;32m    171\u001b[0m \u001b[39mself\u001b[39m\u001b[39m.\u001b[39m_update_fun()\n\u001b[0;32m    172\u001b[0m \u001b[39mself\u001b[39m\u001b[39m.\u001b[39mngev \u001b[39m+\u001b[39m\u001b[39m=\u001b[39m \u001b[39m1\u001b[39m\n\u001b[1;32m--> 173\u001b[0m \u001b[39mself\u001b[39m\u001b[39m.\u001b[39mg \u001b[39m=\u001b[39m approx_derivative(fun_wrapped, \u001b[39mself\u001b[39m\u001b[39m.\u001b[39mx, f0\u001b[39m=\u001b[39m\u001b[39mself\u001b[39m\u001b[39m.\u001b[39mf,\n\u001b[0;32m    174\u001b[0m                            \u001b[39m*\u001b[39m\u001b[39m*\u001b[39mfinite_diff_options)\n",
      "File \u001b[1;32mc:\\Users\\Zbook Create G7\\Desktop\\temperature forecasting\\venv\\lib\\site-packages\\scipy\\optimize\\_numdiff.py:505\u001b[0m, in \u001b[0;36mapprox_derivative\u001b[1;34m(fun, x0, method, rel_step, abs_step, f0, bounds, sparsity, as_linear_operator, args, kwargs)\u001b[0m\n\u001b[0;32m    502\u001b[0m     use_one_sided \u001b[39m=\u001b[39m \u001b[39mFalse\u001b[39;00m\n\u001b[0;32m    504\u001b[0m \u001b[39mif\u001b[39;00m sparsity \u001b[39mis\u001b[39;00m \u001b[39mNone\u001b[39;00m:\n\u001b[1;32m--> 505\u001b[0m     \u001b[39mreturn\u001b[39;00m _dense_difference(fun_wrapped, x0, f0, h,\n\u001b[0;32m    506\u001b[0m                              use_one_sided, method)\n\u001b[0;32m    507\u001b[0m \u001b[39melse\u001b[39;00m:\n\u001b[0;32m    508\u001b[0m     \u001b[39mif\u001b[39;00m \u001b[39mnot\u001b[39;00m issparse(sparsity) \u001b[39mand\u001b[39;00m \u001b[39mlen\u001b[39m(sparsity) \u001b[39m==\u001b[39m \u001b[39m2\u001b[39m:\n",
      "File \u001b[1;32mc:\\Users\\Zbook Create G7\\Desktop\\temperature forecasting\\venv\\lib\\site-packages\\scipy\\optimize\\_numdiff.py:576\u001b[0m, in \u001b[0;36m_dense_difference\u001b[1;34m(fun, x0, f0, h, use_one_sided, method)\u001b[0m\n\u001b[0;32m    574\u001b[0m     x \u001b[39m=\u001b[39m x0 \u001b[39m+\u001b[39m h_vecs[i]\n\u001b[0;32m    575\u001b[0m     dx \u001b[39m=\u001b[39m x[i] \u001b[39m-\u001b[39m x0[i]  \u001b[39m# Recompute dx as exactly representable number.\u001b[39;00m\n\u001b[1;32m--> 576\u001b[0m     df \u001b[39m=\u001b[39m fun(x) \u001b[39m-\u001b[39m f0\n\u001b[0;32m    577\u001b[0m \u001b[39melif\u001b[39;00m method \u001b[39m==\u001b[39m \u001b[39m'\u001b[39m\u001b[39m3-point\u001b[39m\u001b[39m'\u001b[39m \u001b[39mand\u001b[39;00m use_one_sided[i]:\n\u001b[0;32m    578\u001b[0m     x1 \u001b[39m=\u001b[39m x0 \u001b[39m+\u001b[39m h_vecs[i]\n",
      "File \u001b[1;32mc:\\Users\\Zbook Create G7\\Desktop\\temperature forecasting\\venv\\lib\\site-packages\\scipy\\optimize\\_numdiff.py:456\u001b[0m, in \u001b[0;36mapprox_derivative.<locals>.fun_wrapped\u001b[1;34m(x)\u001b[0m\n\u001b[0;32m    455\u001b[0m \u001b[39mdef\u001b[39;00m \u001b[39mfun_wrapped\u001b[39m(x):\n\u001b[1;32m--> 456\u001b[0m     f \u001b[39m=\u001b[39m np\u001b[39m.\u001b[39matleast_1d(fun(x, \u001b[39m*\u001b[39margs, \u001b[39m*\u001b[39m\u001b[39m*\u001b[39mkwargs))\n\u001b[0;32m    457\u001b[0m     \u001b[39mif\u001b[39;00m f\u001b[39m.\u001b[39mndim \u001b[39m>\u001b[39m \u001b[39m1\u001b[39m:\n\u001b[0;32m    458\u001b[0m         \u001b[39mraise\u001b[39;00m \u001b[39mRuntimeError\u001b[39;00m(\u001b[39m\"\u001b[39m\u001b[39m`fun` return value has \u001b[39m\u001b[39m\"\u001b[39m\n\u001b[0;32m    459\u001b[0m                            \u001b[39m\"\u001b[39m\u001b[39mmore than 1 dimension.\u001b[39m\u001b[39m\"\u001b[39m)\n",
      "File \u001b[1;32mc:\\Users\\Zbook Create G7\\Desktop\\temperature forecasting\\venv\\lib\\site-packages\\scipy\\optimize\\_differentiable_functions.py:137\u001b[0m, in \u001b[0;36mScalarFunction.__init__.<locals>.fun_wrapped\u001b[1;34m(x)\u001b[0m\n\u001b[0;32m    133\u001b[0m \u001b[39mself\u001b[39m\u001b[39m.\u001b[39mnfev \u001b[39m+\u001b[39m\u001b[39m=\u001b[39m \u001b[39m1\u001b[39m\n\u001b[0;32m    134\u001b[0m \u001b[39m# Send a copy because the user may overwrite it.\u001b[39;00m\n\u001b[0;32m    135\u001b[0m \u001b[39m# Overwriting results in undefined behaviour because\u001b[39;00m\n\u001b[0;32m    136\u001b[0m \u001b[39m# fun(self.x) will change self.x, with the two no longer linked.\u001b[39;00m\n\u001b[1;32m--> 137\u001b[0m fx \u001b[39m=\u001b[39m fun(np\u001b[39m.\u001b[39;49mcopy(x), \u001b[39m*\u001b[39;49margs)\n\u001b[0;32m    138\u001b[0m \u001b[39m# Make sure the function returns a true scalar\u001b[39;00m\n\u001b[0;32m    139\u001b[0m \u001b[39mif\u001b[39;00m \u001b[39mnot\u001b[39;00m np\u001b[39m.\u001b[39misscalar(fx):\n",
      "File \u001b[1;32mc:\\Users\\Zbook Create G7\\Desktop\\temperature forecasting\\venv\\lib\\site-packages\\statsforecast\\arima.py:692\u001b[0m, in \u001b[0;36marima.<locals>.armafn\u001b[1;34m(p, x, trans)\u001b[0m\n\u001b[0;32m    680\u001b[0m     x \u001b[39m-\u001b[39m\u001b[39m=\u001b[39m np\u001b[39m.\u001b[39mdot(xreg, par[narma \u001b[39m+\u001b[39m np\u001b[39m.\u001b[39marange(ncxreg)])\n\u001b[0;32m    681\u001b[0m res \u001b[39m=\u001b[39m arima_like(\n\u001b[0;32m    682\u001b[0m     x,\n\u001b[0;32m    683\u001b[0m     Z[\u001b[39m\"\u001b[39m\u001b[39mphi\u001b[39m\u001b[39m\"\u001b[39m],\n\u001b[1;32m   (...)\u001b[0m\n\u001b[0;32m    690\u001b[0m     \u001b[39mFalse\u001b[39;00m,\n\u001b[0;32m    691\u001b[0m )\n\u001b[1;32m--> 692\u001b[0m \u001b[39mif\u001b[39;00m res[\u001b[39m2\u001b[39;49m] \u001b[39m==\u001b[39;49m \u001b[39m0.0\u001b[39;49m:\n\u001b[0;32m    693\u001b[0m     \u001b[39mreturn\u001b[39;00m math\u001b[39m.\u001b[39minf\n\u001b[0;32m    695\u001b[0m s2 \u001b[39m=\u001b[39m res[\u001b[39m0\u001b[39m] \u001b[39m/\u001b[39m res[\u001b[39m2\u001b[39m]\n",
      "\u001b[1;31mKeyboardInterrupt\u001b[0m: "
     ]
    }
   ],
   "source": [
    "\n",
    "sf = StatsForecast(\n",
    "    models = [AutoARIMA(season_length = 12)],\n",
    "    freq = '10T'\n",
    ")\n",
    "\n",
    "sf.fit(data[['y','ds','unique_id']])\n",
    "sf.predict(h=12, level=[95])\n"
   ]
  },
  {
   "cell_type": "code",
   "execution_count": null,
   "metadata": {},
   "outputs": [],
   "source": []
  }
 ],
 "metadata": {
  "kernelspec": {
   "display_name": "venv",
   "language": "python",
   "name": "python3"
  },
  "language_info": {
   "codemirror_mode": {
    "name": "ipython",
    "version": 3
   },
   "file_extension": ".py",
   "mimetype": "text/x-python",
   "name": "python",
   "nbconvert_exporter": "python",
   "pygments_lexer": "ipython3",
   "version": "3.10.10"
  }
 },
 "nbformat": 4,
 "nbformat_minor": 2
}
